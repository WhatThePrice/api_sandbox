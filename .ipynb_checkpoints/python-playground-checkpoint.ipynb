{
 "cells": [
  {
   "cell_type": "markdown",
   "metadata": {},
   "source": [
    "# LAZADA"
   ]
  },
  {
   "cell_type": "code",
   "execution_count": null,
   "metadata": {},
   "outputs": [],
   "source": [
    "from scraper_api import ScraperAPIClient\n",
    "from bs4 import BeautifulSoup\n",
    "import json\n",
    "from datetime import datetime\n",
    "import statistics\n",
    "from scipy.stats import skew \n",
    "import numpy as np\n",
    "\n",
    "query = input(\"Search Item:\")\n",
    "now = datetime.now()\n",
    "\n",
    "url = 'https://www.lazada.com.my/catalog/?q='+ query\n",
    "client = ScraperAPIClient('c9ec9794c69af3279d1c3664445b4a79')\n",
    "page = client.get(url = url, render=True)"
   ]
  },
  {
   "cell_type": "code",
   "execution_count": null,
   "metadata": {},
   "outputs": [],
   "source": [
    "soup = BeautifulSoup(page.content, 'html.parser')\n",
    "scripts = soup.find_all('script')"
   ]
  },
  {
   "cell_type": "code",
   "execution_count": null,
   "metadata": {
    "scrolled": false
   },
   "outputs": [],
   "source": [
    "for i in range(len(scripts)):\n",
    "    if \"<script>window.pageData=\" in str(scripts[i]):\n",
    "        data = str(scripts[i]).lstrip(\"<script>window.pageData=\").rstrip(\"</script>\")\n",
    "        data = json.loads(data)"
   ]
  },
  {
   "cell_type": "code",
   "execution_count": null,
   "metadata": {},
   "outputs": [],
   "source": [
    "if \"listItems\" in data['mods']:\n",
    "    len(data['mods']['listItems'])\n",
    "    results = {\"status\":\"OK\", \"status_code\":\"200\", \"data\":[]}\n",
    "\n",
    "    xquery = query.lower().split()\n",
    "\n",
    "    for i in range(len(data['mods']['listItems'])): \n",
    "        val = []\n",
    "\n",
    "        for j in xquery:\n",
    "            val.append(j in data['mods']['listItems'][i]['name'].lower())\n",
    "        xquery_result = False if False in val else True\n",
    "\n",
    "        if xquery_result:\n",
    "\n",
    "            results['data'].append({\n",
    "                \"product_id\" : data['mods']['listItems'][i]['nid'],\n",
    "                \"name\" : data['mods']['listItems'][i]['name'],\n",
    "                \"price\" : float(data['mods']['listItems'][i]['price']),\n",
    "                \"brand\" : data['mods']['listItems'][i]['brandName'],\n",
    "                \"url\" : data['mods']['listItems'][i]['productUrl'].lstrip(\"//\").rstrip(\"?search=1\"),\n",
    "                \"image_url\" : data['mods']['listItems'][i]['image'].lstrip(\"https://\")\n",
    "            })\n",
    "else:\n",
    "    print(\"Search No Result\")\n",
    "    results = {\"status\":\"Not Found\", \"status_code\":\"404\", \"data\":[]}"
   ]
  },
  {
   "cell_type": "code",
   "execution_count": null,
   "metadata": {},
   "outputs": [],
   "source": [
    "duration = (datetime.now()-now).total_seconds()"
   ]
  },
  {
   "cell_type": "code",
   "execution_count": null,
   "metadata": {},
   "outputs": [],
   "source": [
    "len(results['data'])"
   ]
  },
  {
   "cell_type": "code",
   "execution_count": null,
   "metadata": {},
   "outputs": [],
   "source": [
    "for i in range(len(results['data'])):\n",
    "    print(results['data'][i]['price'])"
   ]
  },
  {
   "cell_type": "code",
   "execution_count": null,
   "metadata": {},
   "outputs": [],
   "source": [
    "max_price = results['data'][0]['price']\n",
    "min_price = results['data'][0]['price']\n",
    "sum_price = 0\n",
    "for i in range(len(results['data'])):\n",
    "    if results['data'][i]['price'] > max_price:\n",
    "        max_price = results['data'][i]['price']\n",
    "    if results['data'][i]['price'] < min_price:\n",
    "        min_price = results['data'][i]['price']\n",
    "    sum_price += results['data'][i]['price']\n",
    "    \n",
    "avg_price = round(sum_price/len(results['data']),2)\n",
    "    \n",
    "print(\"min:\", min_price, \"max\", max_price, \"avg\", avg_price)"
   ]
  },
  {
   "cell_type": "code",
   "execution_count": null,
   "metadata": {},
   "outputs": [],
   "source": [
    "price=[]\n",
    "for i in range(len(results['data'])):\n",
    "    price.append(results['data'][i]['price'])\n",
    "price_np = np.array(price)"
   ]
  },
  {
   "cell_type": "code",
   "execution_count": null,
   "metadata": {},
   "outputs": [],
   "source": [
    "print(len(price))\n",
    "print(max(price))\n",
    "print(min(price))\n",
    "print(round(statistics.mean(price),2))\n",
    "print(statistics.median(price))\n",
    "try:\n",
    "    print(statistics.mode(price))\n",
    "except:\n",
    "    print(\"Statistics error!\")\n",
    "print(round(statistics.variance(price),2))\n",
    "print(round(statistics.stdev(price),2))\n",
    "print(skew(price_np,bias=False))"
   ]
  },
  {
   "cell_type": "code",
   "execution_count": null,
   "metadata": {},
   "outputs": [],
   "source": []
  },
  {
   "cell_type": "code",
   "execution_count": null,
   "metadata": {},
   "outputs": [],
   "source": []
  },
  {
   "cell_type": "code",
   "execution_count": null,
   "metadata": {},
   "outputs": [],
   "source": [
    "from collections import Counter\n",
    "from itertools import groupby\n",
    "\n",
    "freqs = groupby(Counter(price).most_common(), lambda x:x[1])\n",
    "mode_price = [val for val,count in next(freqs)[1]]"
   ]
  },
  {
   "cell_type": "code",
   "execution_count": null,
   "metadata": {},
   "outputs": [],
   "source": []
  },
  {
   "cell_type": "code",
   "execution_count": null,
   "metadata": {},
   "outputs": [],
   "source": []
  },
  {
   "cell_type": "code",
   "execution_count": null,
   "metadata": {},
   "outputs": [],
   "source": []
  },
  {
   "cell_type": "code",
   "execution_count": null,
   "metadata": {},
   "outputs": [],
   "source": []
  },
  {
   "cell_type": "code",
   "execution_count": null,
   "metadata": {},
   "outputs": [],
   "source": []
  },
  {
   "cell_type": "code",
   "execution_count": null,
   "metadata": {},
   "outputs": [],
   "source": []
  },
  {
   "cell_type": "markdown",
   "metadata": {},
   "source": [
    "# SHOPEE"
   ]
  },
  {
   "cell_type": "code",
   "execution_count": null,
   "metadata": {},
   "outputs": [],
   "source": [
    "from scraper_api import ScraperAPIClient\n",
    "from bs4 import BeautifulSoup\n",
    "\n",
    "query = 'Edifier W830BT'\n",
    "\n",
    "url = 'https://shopee.com.my/search?keyword='+ query\n",
    "client = ScraperAPIClient('c9ec9794c69af3279d1c3664445b4a79')\n",
    "page = client.get(url = url, render=True)\n",
    "\n"
   ]
  },
  {
   "cell_type": "code",
   "execution_count": null,
   "metadata": {},
   "outputs": [],
   "source": [
    "soup = BeautifulSoup(page.content, 'html.parser')\n",
    "price = soup.findAll(\"div\", {\"class\": \"_1w9jLI _37ge-4 _2ZYSiu\"})\n",
    "title = soup.findAll(\"div\", {\"class\": \"_1NoI8_ _1JBBaM\"})\n",
    "all = soup.findAll(\"div\", {\"class\": \"_3eufr2\"})"
   ]
  },
  {
   "cell_type": "code",
   "execution_count": null,
   "metadata": {},
   "outputs": [],
   "source": [
    "for i in all:\n",
    "    print(i.text)\n",
    "len(all)"
   ]
  },
  {
   "cell_type": "code",
   "execution_count": null,
   "metadata": {},
   "outputs": [],
   "source": [
    "for i in title:\n",
    "    print(i.text)\n",
    "len(title)"
   ]
  },
  {
   "cell_type": "code",
   "execution_count": null,
   "metadata": {},
   "outputs": [],
   "source": []
  },
  {
   "cell_type": "markdown",
   "metadata": {},
   "source": [
    "# SCRIBBLE"
   ]
  },
  {
   "cell_type": "code",
   "execution_count": null,
   "metadata": {},
   "outputs": [],
   "source": [
    "import requests\n",
    "\n",
    "url = 'https://laravel-sandbox-whattheprice.herokuapp.com/api/savequery'\n",
    "myobj = {'query': 'keyboard'}\n",
    "\n",
    "x = requests.post(url, data = myobj)\n",
    "\n",
    "print(x.text)"
   ]
  },
  {
   "cell_type": "code",
   "execution_count": null,
   "metadata": {},
   "outputs": [],
   "source": [
    "def save_q():\n",
    "    import requests\n",
    "\n",
    "    url = 'https://laravel-sandbox-whattheprice.herokuapp.com/api/savequery'\n",
    "    myobj = {'query': 'keyboard'}\n",
    "\n",
    "    x = requests.post(url, data = myobj)\n",
    "\n",
    "    print(x.text)"
   ]
  },
  {
   "cell_type": "code",
   "execution_count": null,
   "metadata": {},
   "outputs": [],
   "source": []
  },
  {
   "cell_type": "code",
   "execution_count": null,
   "metadata": {},
   "outputs": [],
   "source": []
  },
  {
   "cell_type": "code",
   "execution_count": null,
   "metadata": {},
   "outputs": [],
   "source": []
  },
  {
   "cell_type": "code",
   "execution_count": null,
   "metadata": {},
   "outputs": [],
   "source": [
    "def proxy(query):   \n",
    "    from proxycrawl.proxycrawl_api import ProxyCrawlAPI\n",
    "    from datetime import datetime\n",
    "    \n",
    "    t1 = datetime.utcnow()\n",
    "  \n",
    "    url = 'https://www.lazada.com.my/catalog/?q='+ query\n",
    "    \n",
    "    api = ProxyCrawlAPI({ 'token': 'YVvfXtjJDRHVToQFggOkOA' })\n",
    "\n",
    "    response = api.get(url, options = {})\n",
    "    \n",
    "    duration = (datetime.utcnow()-t1).total_seconds()\n",
    "    \n",
    "    return duration"
   ]
  },
  {
   "cell_type": "code",
   "execution_count": null,
   "metadata": {},
   "outputs": [],
   "source": [
    "def scraper(query):\n",
    "    from scraper_api import ScraperAPIClient\n",
    "    from datetime import datetime\n",
    "\n",
    "    try:\n",
    "        t1 = datetime.utcnow()\n",
    "        \n",
    "        url = 'https://www.lazada.com.my/catalog/?q='+ query\n",
    "        \n",
    "        client = ScraperAPIClient('c9ec9794c69af3279d1c3664445b4a79')\n",
    "        page = client.get(url = url, render=True)\n",
    "        \n",
    "        duration = (datetime.utcnow()-t1).total_seconds()\n",
    "    \n",
    "    except:\n",
    "        print(\"Error!\")\n",
    "        \n",
    "    return duration"
   ]
  },
  {
   "cell_type": "code",
   "execution_count": null,
   "metadata": {},
   "outputs": [],
   "source": [
    "query_array = ['nescafe','kacang','iphone','study table',\n",
    "               'bantal peluk das','coffee table','ayaya ayayyu',\n",
    "               'samsung tv','samsung galaxy','meja makan', 'thomas train',\n",
    "              'gaming laptop','gaming chair','office chair']"
   ]
  },
  {
   "cell_type": "code",
   "execution_count": null,
   "metadata": {
    "scrolled": true
   },
   "outputs": [],
   "source": [
    "pr_arr = []\n",
    "sc_arr = []\n",
    "\n",
    "for i in range(3):\n",
    "    for query in query_array:\n",
    "        print(query)\n",
    "        print(\"*****************\")\n",
    "\n",
    "        try:\n",
    "            pr = proxy(query)\n",
    "        except:\n",
    "            pr = None\n",
    "        finally:\n",
    "            pr_arr.append(pr)\n",
    "\n",
    "        try:\n",
    "            sc = scraper(query)\n",
    "        except:\n",
    "            sc = None\n",
    "        finally:\n",
    "            sc_arr.append(sc)"
   ]
  },
  {
   "cell_type": "code",
   "execution_count": null,
   "metadata": {},
   "outputs": [],
   "source": [
    "pr_arr"
   ]
  },
  {
   "cell_type": "code",
   "execution_count": null,
   "metadata": {},
   "outputs": [],
   "source": [
    "sc_arr"
   ]
  },
  {
   "cell_type": "code",
   "execution_count": null,
   "metadata": {},
   "outputs": [],
   "source": [
    "def Average(lst): \n",
    "    return sum(lst) / len(lst) "
   ]
  },
  {
   "cell_type": "code",
   "execution_count": null,
   "metadata": {},
   "outputs": [],
   "source": [
    "Average(sc_arr)"
   ]
  },
  {
   "cell_type": "code",
   "execution_count": null,
   "metadata": {},
   "outputs": [],
   "source": [
    "Average(pr_arr)"
   ]
  },
  {
   "cell_type": "code",
   "execution_count": null,
   "metadata": {},
   "outputs": [],
   "source": [
    "import matplotlib.pyplot as plt\n",
    "plt.plot(sc_arr)\n",
    "plt.plot(pr_arr, 'go')\n",
    "plt.ylabel('query time')\n",
    "plt.show()"
   ]
  },
  {
   "cell_type": "code",
   "execution_count": null,
   "metadata": {},
   "outputs": [],
   "source": [
    "import csv"
   ]
  },
  {
   "cell_type": "code",
   "execution_count": null,
   "metadata": {},
   "outputs": [],
   "source": [
    "with open('data.csv', 'w', newline='') as file:\n",
    "    writer = csv.writer(file)\n",
    "\n",
    "    writer.writerow([\"id\", \"proxycrawler\", \"scraperapi\"])\n",
    "    for i in range(len(pr_arr)):\n",
    "        writer.writerow([i, pr_arr[i], sc_arr[i]])"
   ]
  },
  {
   "cell_type": "code",
   "execution_count": null,
   "metadata": {},
   "outputs": [],
   "source": []
  }
 ],
 "metadata": {
  "kernelspec": {
   "display_name": "Python 3",
   "language": "python",
   "name": "python3"
  },
  "language_info": {
   "codemirror_mode": {
    "name": "ipython",
    "version": 3
   },
   "file_extension": ".py",
   "mimetype": "text/x-python",
   "name": "python",
   "nbconvert_exporter": "python",
   "pygments_lexer": "ipython3",
   "version": "3.7.7"
  }
 },
 "nbformat": 4,
 "nbformat_minor": 4
}
